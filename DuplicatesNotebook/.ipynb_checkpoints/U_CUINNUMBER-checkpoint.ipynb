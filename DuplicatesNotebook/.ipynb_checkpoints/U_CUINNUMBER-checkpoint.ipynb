{
 "cells": [
  {
   "cell_type": "code",
   "execution_count": 8,
   "id": "199b2bde-382f-43d6-8109-9da1ddbd436d",
   "metadata": {},
   "outputs": [
    {
     "name": "stdout",
     "output_type": "stream",
     "text": [
      "Duplicate values found in the column.\n",
      "                           CardName     TaxDate   NumAtCard  \\\n",
      "1          SHALINA HEALTHCARE K LTD  09/08/2023  0001534T01   \n",
      "7               KENYA BREWERIES LTD  22/08/2023  9501458679   \n",
      "8                MARKETWAYS LIMITED  26/08/2023      344401   \n",
      "11          KIM FAY EAST AFRICA LTD  28/08/2023    IN587095   \n",
      "12     RAJ KAMAL ENTERPRISE LIMITED  15/08/2023        5099   \n",
      "...                             ...         ...         ...   \n",
      "31812    AQUAPET AND STATIONERS LTD  31/08/2023   INV/01605   \n",
      "31814    AQUAPET AND STATIONERS LTD  31/08/2023   INV/01595   \n",
      "31815    AQUAPET AND STATIONERS LTD  31/08/2023   INV/01581   \n",
      "31816  RAJ KAMAL ENTERPRISE LIMITED  31/08/2023        5106   \n",
      "31817  RAJ KAMAL ENTERPRISE LIMITED  31/08/2023        5127   \n",
      "\n",
      "                                            U_CUINNUMBER  Taxable Amount  \\\n",
      "1                                    0190437890000006428        36853.63   \n",
      "7                                    0110396000000058514        67795.50   \n",
      "8                                    0010192910000001470        20472.69   \n",
      "11                                   0110167480000043366       101211.69   \n",
      "12     HTTPS://ITAX.KRA.GO./KRA-PORTAL/INVOICECHK.HTM...        52181.00   \n",
      "...                                                  ...             ...   \n",
      "31812  HTTPS://ITAX.KRA.GO.KE/KRA-PORTAL/INVOICECHK.H...        -2225.63   \n",
      "31814  HTTPS://ITAX.KRA.GO.KE/KRA-PORTAL/INVOICECHK.H...        -2091.56   \n",
      "31815  HTTPS://ITAX.KRA.GO.KE/KRA-PORTAL/INVOICECHK.H...        -6636.19   \n",
      "31816  HTTPS://ITAX.KRA.GO./KRA-PORTAL/INVOICECHK.HTM...       -42810.31   \n",
      "31817  HTTPS://ITAX.KRA.GO./KRA-PORTAL/INVOICECHK.HTM...       -75413.81   \n",
      "\n",
      "       VAT AMOUNT  \n",
      "1         5896.58  \n",
      "7        10847.28  \n",
      "8         3275.63  \n",
      "11       16193.87  \n",
      "12        8348.96  \n",
      "...           ...  \n",
      "31812     -356.10  \n",
      "31814     -334.65  \n",
      "31815    -1061.79  \n",
      "31816    -6849.65  \n",
      "31817   -12066.21  \n",
      "\n",
      "[277 rows x 6 columns]\n"
     ]
    }
   ],
   "source": [
    "\n",
    "import pandas as pd\n",
    "# Read your dataset\n",
    "df = pd.read_csv('DATA2.csv')\n",
    "\n",
    "#Dropping Unwanted Columns in the data frame\n",
    "df.drop(['#', 'Type','DocNum','Description','Custom Entry','AddID'], axis=1, inplace=True)\n",
    "#Assign value to Drop if exists\n",
    "value_to_remove = 'REVERSED'\n",
    "\n",
    "# Find rows containing the specified value\n",
    "rows_to_drop = df[df['U_CUINNUMBER'] == value_to_remove].index\n",
    "\n",
    "# Drop rows containing the specified value\n",
    "df = df.drop(rows_to_drop)\n",
    "\n",
    "# Remove rows with NaN values in the specified column\n",
    "#df.dropna(subset=['U_CUINNUMBER'], inplace=True)\n",
    "\n",
    "# Remove rows with empty strings in the specified column\n",
    "df = df[df['U_CUINNUMBER'].apply(lambda x: isinstance(x, str) and x.strip() != '')]\n",
    "\n",
    "# If you also want to remove rows with empty strings in the specified column\n",
    "df = df[df['U_CUINNUMBER'].astype(str).str.strip() != '']\n",
    "# Check for duplicate rows\n",
    "duplicate_rows = df[df.duplicated()]\n",
    "# Assuming df is your DataFrame and 'column_name' is the name of the column you want to check\n",
    "duplicates_in_column = df.duplicated(subset=['U_CUINNUMBER']).any()\n",
    "\n",
    "if duplicates_in_column:\n",
    "    print(\"Duplicate values found in the column.\")\n",
    "else:\n",
    "    print(\"No duplicate values found in the column.\")\n",
    "    # Assuming df is your DataFrame and 'column_name' is the name of the column you want to check\n",
    "duplicate_rows_in_column = df[df.duplicated(subset=['U_CUINNUMBER'], keep=False)]\n",
    "print(duplicate_rows_in_column)\n",
    "df.to_csv('my_dataframe_new.csv', index=False)"
   ]
  },
  {
   "cell_type": "code",
   "execution_count": null,
   "id": "3071f4de-7f21-48e5-b7de-f7889d6481eb",
   "metadata": {},
   "outputs": [],
   "source": []
  },
  {
   "cell_type": "code",
   "execution_count": null,
   "id": "ddf27b0c-3eac-41e3-8536-e9db9fda8b30",
   "metadata": {},
   "outputs": [],
   "source": []
  }
 ],
 "metadata": {
  "kernelspec": {
   "display_name": "Python 3 (ipykernel)",
   "language": "python",
   "name": "python3"
  },
  "language_info": {
   "codemirror_mode": {
    "name": "ipython",
    "version": 3
   },
   "file_extension": ".py",
   "mimetype": "text/x-python",
   "name": "python",
   "nbconvert_exporter": "python",
   "pygments_lexer": "ipython3",
   "version": "3.10.12"
  }
 },
 "nbformat": 4,
 "nbformat_minor": 5
}
