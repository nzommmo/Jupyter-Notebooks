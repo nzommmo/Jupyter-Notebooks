{
 "cells": [
  {
   "cell_type": "code",
   "execution_count": 17,
   "id": "199b2bde-382f-43d6-8109-9da1ddbd436d",
   "metadata": {},
   "outputs": [
    {
     "name": "stdout",
     "output_type": "stream",
     "text": [
      "Duplicate values found in the column.\n",
      "                           CardName     TaxDate   NumAtCard  \\\n",
      "0          SHALINA HEALTHCARE K LTD  07/08/2023   0005612T1   \n",
      "1          SHALINA HEALTHCARE K LTD  09/08/2023  0001534T01   \n",
      "2           PWANI OIL PRODUCTS LTD.  15/08/2023  2371001086   \n",
      "3          SHALINA HEALTHCARE K LTD  14/08/2023  0001674T01   \n",
      "4              DPL FESTIVE  LIMITED  20/08/2023     5385349   \n",
      "...                             ...         ...         ...   \n",
      "31812    AQUAPET AND STATIONERS LTD  31/08/2023   INV/01605   \n",
      "31814    AQUAPET AND STATIONERS LTD  31/08/2023   INV/01595   \n",
      "31815    AQUAPET AND STATIONERS LTD  31/08/2023   INV/01581   \n",
      "31816  RAJ KAMAL ENTERPRISE LIMITED  31/08/2023        5106   \n",
      "31817  RAJ KAMAL ENTERPRISE LIMITED  31/08/2023        5127   \n",
      "\n",
      "                                            U_CUINNUMBER  Taxable Amount  \\\n",
      "0                                               REVERSED        24439.69   \n",
      "1                                    0190437890000006428        36853.63   \n",
      "2                                               REVERSED       367511.19   \n",
      "3                                               REVERSED        24439.69   \n",
      "4                                               REVERSED         3106.00   \n",
      "...                                                  ...             ...   \n",
      "31812  HTTPS://ITAX.KRA.GO.KE/KRA-PORTAL/INVOICECHK.H...        -2225.63   \n",
      "31814  HTTPS://ITAX.KRA.GO.KE/KRA-PORTAL/INVOICECHK.H...        -2091.56   \n",
      "31815  HTTPS://ITAX.KRA.GO.KE/KRA-PORTAL/INVOICECHK.H...        -6636.19   \n",
      "31816  HTTPS://ITAX.KRA.GO./KRA-PORTAL/INVOICECHK.HTM...       -42810.31   \n",
      "31817  HTTPS://ITAX.KRA.GO./KRA-PORTAL/INVOICECHK.HTM...       -75413.81   \n",
      "\n",
      "       VAT AMOUNT  \n",
      "0         3910.35  \n",
      "1         5896.58  \n",
      "2        58801.79  \n",
      "3         3910.35  \n",
      "4          496.96  \n",
      "...           ...  \n",
      "31812     -356.10  \n",
      "31814     -334.65  \n",
      "31815    -1061.79  \n",
      "31816    -6849.65  \n",
      "31817   -12066.21  \n",
      "\n",
      "[312 rows x 6 columns]\n"
     ]
    }
   ],
   "source": [
    "\n",
    "import pandas as pd\n",
    "# Read your dataset\n",
    "df = pd.read_csv('/home/nzomo/Downloads/DATA2.csv')\n",
    "\n",
    "#Dropping Unwanted Columns in the data frame\n",
    "df.drop(['#', 'Type','DocNum','Description','Custom Entry','AddID'], axis=1, inplace=True)\n",
    "\n",
    "# Remove rows with NaN values in the specified column\n",
    "#df.dropna(subset=['U_CUINNUMBER'], inplace=True)\n",
    "\n",
    "# Remove rows with empty strings in the specified column\n",
    "df = df[df['U_CUINNUMBER'].apply(lambda x: isinstance(x, str) and x.strip() != '')]\n",
    "\n",
    "# If you also want to remove rows with empty strings in the specified column\n",
    "df = df[df['U_CUINNUMBER'].astype(str).str.strip() != '']\n",
    "# Check for duplicate rows\n",
    "duplicate_rows = df[df.duplicated()]\n",
    "# Assuming df is your DataFrame and 'column_name' is the name of the column you want to check\n",
    "duplicates_in_column = df.duplicated(subset=['U_CUINNUMBER']).any()\n",
    "\n",
    "if duplicates_in_column:\n",
    "    print(\"Duplicate values found in the column.\")\n",
    "else:\n",
    "    print(\"No duplicate values found in the column.\")\n",
    "    # Assuming df is your DataFrame and 'column_name' is the name of the column you want to check\n",
    "duplicate_rows_in_column = df[df.duplicated(subset=['U_CUINNUMBER'], keep=False)]\n",
    "print(duplicate_rows_in_column)\n",
    "df.to_csv('/home/nzomo/Downloads/my_dataframe_new.csv', index=False)"
   ]
  },
  {
   "cell_type": "code",
   "execution_count": null,
   "id": "3071f4de-7f21-48e5-b7de-f7889d6481eb",
   "metadata": {},
   "outputs": [],
   "source": []
  },
  {
   "cell_type": "code",
   "execution_count": null,
   "id": "ddf27b0c-3eac-41e3-8536-e9db9fda8b30",
   "metadata": {},
   "outputs": [],
   "source": []
  }
 ],
 "metadata": {
  "kernelspec": {
   "display_name": "Python 3 (ipykernel)",
   "language": "python",
   "name": "python3"
  },
  "language_info": {
   "codemirror_mode": {
    "name": "ipython",
    "version": 3
   },
   "file_extension": ".py",
   "mimetype": "text/x-python",
   "name": "python",
   "nbconvert_exporter": "python",
   "pygments_lexer": "ipython3",
   "version": "3.10.12"
  }
 },
 "nbformat": 4,
 "nbformat_minor": 5
}
